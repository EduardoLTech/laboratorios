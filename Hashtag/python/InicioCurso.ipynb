{
 "cells": [
  {
   "cell_type": "markdown",
   "id": "dfd314d3",
   "metadata": {},
   "source": [
    "Inicio do curso"
   ]
  },
  {
   "cell_type": "code",
   "execution_count": 12,
   "id": "03b0adcf",
   "metadata": {},
   "outputs": [
    {
     "name": "stdout",
     "output_type": "stream",
     "text": [
      "<class 'int'>\n",
      "<class 'float'>\n",
      "<class 'str'>\n"
     ]
    }
   ],
   "source": [
    "inteiro = 2\n",
    "fracao = 1.2\n",
    "testo = 'teste'\n",
    "\n",
    "\n",
    "print(type(inteiro))\n",
    "print(type(fracao))\n",
    "print(type(testo))\n"
   ]
  },
  {
   "cell_type": "code",
   "execution_count": null,
   "id": "4fad3826",
   "metadata": {},
   "outputs": [],
   "source": []
  },
  {
   "cell_type": "code",
   "execution_count": null,
   "id": "0595af7e",
   "metadata": {},
   "outputs": [],
   "source": []
  }
 ],
 "metadata": {
  "kernelspec": {
   "display_name": "Python 3 (ipykernel)",
   "language": "python",
   "name": "python3"
  },
  "language_info": {
   "codemirror_mode": {
    "name": "ipython",
    "version": 3
   },
   "file_extension": ".py",
   "mimetype": "text/x-python",
   "name": "python",
   "nbconvert_exporter": "python",
   "pygments_lexer": "ipython3",
   "version": "3.9.7"
  }
 },
 "nbformat": 4,
 "nbformat_minor": 5
}
